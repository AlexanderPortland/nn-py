{
 "cells": [
  {
   "cell_type": "code",
   "execution_count": null,
   "metadata": {},
   "outputs": [],
   "source": [
    "import PyPDF2\n",
    "import requests\n",
    "import filecmp\n",
    "import shutil\n",
    "\n",
    "def extract_text_from_pdf(pdf_file: str):\n",
    "    with open(pdf_file, 'rb') as pdf:\n",
    "        reader = PyPDF2.PdfReader(pdf, strict=False)\n",
    "        pdf_text = []\n",
    "\n",
    "        for page in reader.pages:\n",
    "            content = page.extract_text()\n",
    "            pdf_text.append(content)\n",
    "\n",
    "        return pdf_text\n",
    "    \n",
    "def download_pdf(url, file_name, headers):\n",
    "    #Send GET request\n",
    "    response = requests.get(url, headers=headers)\n",
    "    if response.status_code == 200:\n",
    "        with open(file_name, \"wb\") as f:\n",
    "            f.write(response.content)\n",
    "    else:\n",
    "        print(response.status_code)\n",
    "\n",
    "if __name__ == \"__main__\":\n",
    "    print(\"loading file...\\n\")\n",
    "    # Define HTTP Headers\n",
    "    headers = {\n",
    "        \"User-Agent\": \"Chrome/51.0.2704.103\",\n",
    "    }\n",
    "\n",
    "    # Define URL of a PDF\n",
    "    url = \"https://reslife.brown.edu/sites/default/files/Fall%202023%20Housing%20Selection%20Room%20List.pdf\"\n",
    "\n",
    "    # Define PDF file name\n",
    "    file_name = \"housing.pdf\"\n",
    "\n",
    "    shutil.copyfile(file_name, \"old-\" + file_name)\n",
    "\n",
    "    # Download PDF\n",
    "    download_pdf(url, file_name, headers)\n",
    "\n",
    "    print(\"printing file\\n\")\n",
    "    extracted_text = extract_text_from_pdf('housing.pdf')\n",
    "    for text in extracted_text:\n",
    "        print(text)\n",
    "        print(\"\\n-----------hola-------------\\n\\n\")\n",
    "\n",
    "    if (not(filecmp.cmp(file_name, \"old-\" + file_name))):\n",
    "        print(\"\\n \" + '\\033[92m' + \"**New Data Found**\")"
   ]
  },
  {
   "cell_type": "code",
   "execution_count": null,
   "metadata": {},
   "outputs": [],
   "source": []
  }
 ],
 "metadata": {
  "kernelspec": {
   "display_name": "Python 3",
   "language": "python",
   "name": "python3"
  },
  "language_info": {
   "codemirror_mode": {
    "name": "ipython",
    "version": 3
   },
   "file_extension": ".py",
   "mimetype": "text/x-python",
   "name": "python",
   "nbconvert_exporter": "python",
   "pygments_lexer": "ipython3",
   "version": "3.11.1"
  },
  "orig_nbformat": 4
 },
 "nbformat": 4,
 "nbformat_minor": 2
}
